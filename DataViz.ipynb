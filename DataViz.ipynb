{
  "cells": [
    {
      "cell_type": "raw",
      "metadata": {},
      "source": [
        "---\n",
        "title: \"Data Viz Portfolio\"\n",
        "editor: visual\n",
        "---"
      ],
      "id": "b17627cd"
    },
    {
      "cell_type": "markdown",
      "metadata": {},
      "source": [
        "Here is a collection of data visualizations that I have conducted. Many of these visualizations I created in one of my portfolio projects so feel free to check them out to see how I coded these graphs and my interpretations!\n",
        "\n",
        "\n",
        "```{=html}\n",
        "<div class='tableauPlaceholder' id='viz1682379438189' style='position: relative'><noscript><a href='#'><img alt='Data Science Compensation Insights: Exploring Salaries for Data Scientists ' src='https:&#47;&#47;public.tableau.com&#47;static&#47;images&#47;Da&#47;DataScienceCompensationDashboard&#47;DataScienceCompensationDashboard&#47;1_rss.png' style='border: none' /></a></noscript><object class='tableauViz'  style='display:none;'><param name='host_url' value='https%3A%2F%2Fpublic.tableau.com%2F' /> <param name='embed_code_version' value='3' /> <param name='site_root' value='' /><param name='name' value='DataScienceCompensationDashboard&#47;DataScienceCompensationDashboard' /><param name='tabs' value='no' /><param name='toolbar' value='yes' /><param name='static_image' value='https:&#47;&#47;public.tableau.com&#47;static&#47;images&#47;Da&#47;DataScienceCompensationDashboard&#47;DataScienceCompensationDashboard&#47;1.png' /> <param name='animate_transition' value='yes' /><param name='display_static_image' value='yes' /><param name='display_spinner' value='yes' /><param name='display_overlay' value='yes' /><param name='display_count' value='yes' /><param name='language' value='en-US' /><param name='filter' value='publish=yes' /></object></div>                \n",
        "\n",
        "\n",
        "```{js, embedcode}                   \n",
        "var divElement = document.getElementById('viz1682379438189');                    \n",
        "var vizElement = divElement.getElementsByTagName('object')[0];                    \n",
        "if ( divElement.offsetWidth > 800 ) { vizElement.style.minWidth='420px';vizElement.style.maxWidth='100%';vizElement.style.minHeight='587px';vizElement.style.maxHeight=(divElement.offsetWidth*0.75)+'px';} else if ( divElement.offsetWidth > 500 ) { vizElement.style.minWidth='420px';vizElement.style.maxWidth='100%';vizElement.style.minHeight='587px';vizElement.style.maxHeight=(divElement.offsetWidth*0.75)+'px';} else { vizElement.style.width='100%';vizElement.style.height='1277px';}                     \n",
        "var scriptElement = document.createElement('script');                    \n",
        "scriptElement.src = 'https://public.tableau.com/javascripts/api/viz_v1.js';                    vizElement.parentNode.insertBefore(scriptElement, vizElement);                \n",
        "\n",
        "```\n",
        "\n",
        "\n",
        "[![Click Image to Browse Dashboard \\| ©Matthew Swanson 2023](images/Data%20Science%20Compensation%20Dashboard.png){.column-screen}](https://public.tableau.com/app/profile/matthew.swanson5862/viz/DataScienceCompensationDashboard/DataScienceCompensationDashboard?publish=yes)\n",
        "\n",
        "::: {.column-screen layout-nrow=\"5\"}\n",
        "![Word Tokens by Condition \\| © Matthew Swanson 2023](images/wordcorrelation.png)\n",
        "\n",
        "![Multilevel Interaction \\| © Matthew Swanson 2023](images/interactionplot.png)\n",
        "\n",
        "![Structural Data Modeling \\| © Matthew Swanson 2023](images/Structural%20Data%20Modeling.jpg)\n",
        "\n",
        "![Survival Analysis Grouped by Coaching and Commuting Preference \\| © Matthew Swanson](images/survivalplotint.png)\n",
        "\n",
        "![Sentiment Analysis Density Plot \\| © Matthew Swanson 2023](images/densityplot.png)\n",
        "\n",
        "![ANOVA Box Plot \\| © Matthew Swanson 2023](images/boxplot.png)\n",
        "\n",
        "![Factorial ANOVA Bar Plot \\| © Matthew Swanson 2023](images/bargraph.png)\n",
        "\n",
        "![Survival Analysis \\| © Matthew Swanson](images/survialplot.png)\n",
        "\n",
        "![Word Cloud Grouped by Valance \\| © Matthew Swanson](images/wordcloud.png)\n",
        "\n",
        "![NLP Sentiment Analysis Frequency by Condition \\| © Matthew Swanson 2023](images/wordheatmap.png)\n",
        ":::"
      ],
      "id": "d6574f56"
    }
  ],
  "metadata": {
    "kernelspec": {
      "display_name": "Python 3",
      "language": "python",
      "name": "python3"
    }
  },
  "nbformat": 4,
  "nbformat_minor": 5
}